{
 "cells": [
  {
   "cell_type": "code",
   "execution_count": 6,
   "id": "433488e6-944b-482b-a19f-db64a734a54e",
   "metadata": {},
   "outputs": [],
   "source": [
    "#pip install pandas"
   ]
  },
  {
   "cell_type": "code",
   "execution_count": 3,
   "id": "98b2c6ab-c3f8-4101-8015-48918efd979f",
   "metadata": {},
   "outputs": [],
   "source": [
    "import pandas as pd\n",
    "import numpy as np"
   ]
  },
  {
   "cell_type": "markdown",
   "id": "e14ed137-daf7-4c72-88b7-57d58c195b0d",
   "metadata": {},
   "source": [
    "## Load Data in train and test"
   ]
  },
  {
   "cell_type": "code",
   "execution_count": 32,
   "id": "9781f952-475e-4fd8-9b4a-443c56dea13c",
   "metadata": {},
   "outputs": [],
   "source": [
    "train = pd.read_csv(\"../Dataset/credit_card_transaction_train.csv\")\n",
    "test = pd.read_csv(\"../Dataset/credit_card_transaction_test.csv\")"
   ]
  },
  {
   "cell_type": "markdown",
   "id": "f37f4f27-f5b6-4933-a693-6aa8e0a95676",
   "metadata": {},
   "source": [
    "## Basic Analysis of Datasets"
   ]
  },
  {
   "cell_type": "code",
   "execution_count": 33,
   "id": "33218e24-044d-4eb6-8b43-a475774ab03c",
   "metadata": {},
   "outputs": [
    {
     "data": {
      "text/plain": [
       "((1296675, 24), (555719, 24))"
      ]
     },
     "execution_count": 33,
     "metadata": {},
     "output_type": "execute_result"
    }
   ],
   "source": [
    "train.shape, test.shape"
   ]
  },
  {
   "cell_type": "code",
   "execution_count": 34,
   "id": "2cd60902-3e25-4ddb-95d5-af657ecde27d",
   "metadata": {},
   "outputs": [
    {
     "data": {
      "text/plain": [
       "True"
      ]
     },
     "execution_count": 34,
     "metadata": {},
     "output_type": "execute_result"
    }
   ],
   "source": [
    "all(train.columns == test.columns)"
   ]
  },
  {
   "cell_type": "code",
   "execution_count": 35,
   "id": "58c1c519-4682-46cf-89d2-93aabee6936c",
   "metadata": {},
   "outputs": [
    {
     "name": "stdout",
     "output_type": "stream",
     "text": [
      "<class 'pandas.core.frame.DataFrame'>\n",
      "RangeIndex: 1296675 entries, 0 to 1296674\n",
      "Data columns (total 24 columns):\n",
      " #   Column                 Non-Null Count    Dtype  \n",
      "---  ------                 --------------    -----  \n",
      " 0   Unnamed: 0             1296675 non-null  int64  \n",
      " 1   trans_date_trans_time  1296675 non-null  object \n",
      " 2   cc_num                 1296675 non-null  int64  \n",
      " 3   merchant               1296675 non-null  object \n",
      " 4   category               1296675 non-null  object \n",
      " 5   amt                    1296675 non-null  float64\n",
      " 6   first                  1296675 non-null  object \n",
      " 7   last                   1296675 non-null  object \n",
      " 8   gender                 1296675 non-null  object \n",
      " 9   street                 1296675 non-null  object \n",
      " 10  city                   1296675 non-null  object \n",
      " 11  state                  1296675 non-null  object \n",
      " 12  zip                    1296675 non-null  int64  \n",
      " 13  lat                    1296675 non-null  float64\n",
      " 14  long                   1296675 non-null  float64\n",
      " 15  city_pop               1296675 non-null  int64  \n",
      " 16  job                    1296675 non-null  object \n",
      " 17  dob                    1296675 non-null  object \n",
      " 18  trans_num              1296675 non-null  object \n",
      " 19  unix_time              1296675 non-null  int64  \n",
      " 20  merch_lat              1296675 non-null  float64\n",
      " 21  merch_long             1296675 non-null  float64\n",
      " 22  is_fraud               1296675 non-null  int64  \n",
      " 23  merch_zipcode          1100702 non-null  float64\n",
      "dtypes: float64(6), int64(6), object(12)\n",
      "memory usage: 237.4+ MB\n"
     ]
    }
   ],
   "source": [
    "train.info()"
   ]
  },
  {
   "cell_type": "code",
   "execution_count": 36,
   "id": "db74550c-79a5-4cfc-a1d2-96fceed1602d",
   "metadata": {},
   "outputs": [
    {
     "name": "stdout",
     "output_type": "stream",
     "text": [
      "<class 'pandas.core.frame.DataFrame'>\n",
      "RangeIndex: 555719 entries, 0 to 555718\n",
      "Data columns (total 24 columns):\n",
      " #   Column                 Non-Null Count   Dtype  \n",
      "---  ------                 --------------   -----  \n",
      " 0   Unnamed: 0             555719 non-null  int64  \n",
      " 1   trans_date_trans_time  555719 non-null  object \n",
      " 2   cc_num                 555719 non-null  int64  \n",
      " 3   merchant               555719 non-null  object \n",
      " 4   category               555719 non-null  object \n",
      " 5   amt                    555719 non-null  float64\n",
      " 6   first                  555719 non-null  object \n",
      " 7   last                   555719 non-null  object \n",
      " 8   gender                 555719 non-null  object \n",
      " 9   street                 555719 non-null  object \n",
      " 10  city                   555719 non-null  object \n",
      " 11  state                  555719 non-null  object \n",
      " 12  zip                    555719 non-null  int64  \n",
      " 13  lat                    555719 non-null  float64\n",
      " 14  long                   555719 non-null  float64\n",
      " 15  city_pop               555719 non-null  int64  \n",
      " 16  job                    555719 non-null  object \n",
      " 17  dob                    555719 non-null  object \n",
      " 18  trans_num              555719 non-null  object \n",
      " 19  unix_time              555719 non-null  int64  \n",
      " 20  merch_lat              555719 non-null  float64\n",
      " 21  merch_long             555719 non-null  float64\n",
      " 22  is_fraud               555719 non-null  int64  \n",
      " 23  merch_zipcode          471736 non-null  float64\n",
      "dtypes: float64(6), int64(6), object(12)\n",
      "memory usage: 101.8+ MB\n"
     ]
    }
   ],
   "source": [
    "test.info()"
   ]
  },
  {
   "cell_type": "code",
   "execution_count": 37,
   "id": "45295f2c-1bf7-4453-8efd-a87f0f28b5c9",
   "metadata": {},
   "outputs": [
    {
     "data": {
      "text/plain": [
       "(merch_zipcode    0.064768\n",
       " dtype: float64,\n",
       " merch_zipcode    0.352648\n",
       " dtype: float64)"
      ]
     },
     "execution_count": 37,
     "metadata": {},
     "output_type": "execute_result"
    }
   ],
   "source": [
    "#Null Values\n",
    "nullsTrain=train.isna().sum()\n",
    "nullsTrain=nullsTrain[nullsTrain>0]\n",
    "\n",
    "nullsTest=test.isna().sum()\n",
    "nullsTest=nullsTest[nullsTest>0]\n",
    "\n",
    "nullsPercentTrain=nullsTest/train.shape[0]\n",
    "nullsPercentTest=nullsTrain/test.shape[0]\n",
    "\n",
    "nullsPercentTrain , nullsPercentTest"
   ]
  },
  {
   "cell_type": "markdown",
   "id": "21a21286-d8b2-46e7-8ba3-5b64f1418404",
   "metadata": {},
   "source": [
    "## Removing Null values\n",
    "Null values contribute to only 6% of training data. Testing data should be clean."
   ]
  },
  {
   "cell_type": "code",
   "execution_count": 38,
   "id": "493301e3-d891-4cab-97f5-56ed30061f28",
   "metadata": {},
   "outputs": [],
   "source": [
    "#Removing Null Values\n",
    "train.dropna(inplace=True,axis=0)\n",
    "test.dropna(inplace=True,axis=0)"
   ]
  },
  {
   "cell_type": "code",
   "execution_count": 39,
   "id": "d9011246-0f0a-4dcb-96a5-d788ab1852b9",
   "metadata": {},
   "outputs": [
    {
     "data": {
      "text/plain": [
       "((1100702, 24), (471736, 24))"
      ]
     },
     "execution_count": 39,
     "metadata": {},
     "output_type": "execute_result"
    }
   ],
   "source": [
    "train.shape, test.shape"
   ]
  },
  {
   "cell_type": "markdown",
   "id": "80e0057c-581e-4d98-93cb-f665319076eb",
   "metadata": {},
   "source": [
    "."
   ]
  },
  {
   "cell_type": "markdown",
   "id": "b71f2772-462d-4e15-8923-b95785899ec1",
   "metadata": {},
   "source": [
    "## Remove index columns"
   ]
  },
  {
   "cell_type": "code",
   "execution_count": 40,
   "id": "c2edaba1-7277-44ee-a644-f3c2c12823a2",
   "metadata": {},
   "outputs": [],
   "source": [
    "#Remove index columns\n",
    "colsToDrop= ['trans_date_trans_time','Unnamed: 0','cc_num','first','last','trans_num']\n",
    "train.drop(colsToDrop,axis=1,inplace=True)\n",
    "test.drop(colsToDrop,axis=1,inplace=True)"
   ]
  },
  {
   "cell_type": "code",
   "execution_count": 41,
   "id": "3fb1e398-4ac7-4e68-aac5-8b75e37123c8",
   "metadata": {},
   "outputs": [
    {
     "data": {
      "text/plain": [
       "((1100702, 18), (471736, 18))"
      ]
     },
     "execution_count": 41,
     "metadata": {},
     "output_type": "execute_result"
    }
   ],
   "source": [
    "train.shape, test.shape"
   ]
  },
  {
   "cell_type": "markdown",
   "id": "fa72edfe-e7e1-43df-a7cc-0f2b55a4ba3f",
   "metadata": {},
   "source": [
    "."
   ]
  },
  {
   "cell_type": "markdown",
   "id": "14154c0d-4b29-4717-8ff8-ea795b2dd67b",
   "metadata": {},
   "source": [
    "## Encoding "
   ]
  },
  {
   "cell_type": "code",
   "execution_count": 42,
   "id": "b3f81f3b-f3de-4b56-953e-4450cae06901",
   "metadata": {},
   "outputs": [
    {
     "data": {
      "text/plain": [
       "merchant             693\n",
       "category              14\n",
       "amt                49455\n",
       "gender                 2\n",
       "street               980\n",
       "city                 891\n",
       "state                 50\n",
       "zip                  967\n",
       "lat                  965\n",
       "long                 966\n",
       "city_pop             878\n",
       "job                  493\n",
       "dob                  965\n",
       "unix_time        1084867\n",
       "merch_lat        1062158\n",
       "merch_long       1083956\n",
       "is_fraud               2\n",
       "merch_zipcode      28336\n",
       "dtype: int64"
      ]
     },
     "execution_count": 42,
     "metadata": {},
     "output_type": "execute_result"
    }
   ],
   "source": [
    "train.nunique()"
   ]
  },
  {
   "cell_type": "code",
   "execution_count": 28,
   "id": "141ad80c-2251-46d6-9e48-e02a29bfcaf8",
   "metadata": {},
   "outputs": [
    {
     "data": {
      "text/plain": [
       "trans_date_trans_time     object\n",
       "cc_num                     int64\n",
       "merchant                  object\n",
       "category                  object\n",
       "amt                      float64\n",
       "first                     object\n",
       "last                      object\n",
       "gender                    object\n",
       "street                    object\n",
       "city                      object\n",
       "state                     object\n",
       "zip                        int64\n",
       "lat                      float64\n",
       "long                     float64\n",
       "city_pop                   int64\n",
       "job                       object\n",
       "dob                       object\n",
       "trans_num                 object\n",
       "unix_time                  int64\n",
       "merch_lat                float64\n",
       "merch_long               float64\n",
       "is_fraud                   int64\n",
       "merch_zipcode            float64\n",
       "dtype: object"
      ]
     },
     "execution_count": 28,
     "metadata": {},
     "output_type": "execute_result"
    }
   ],
   "source": [
    "df.dtypes"
   ]
  },
  {
   "cell_type": "code",
   "execution_count": null,
   "id": "e2566547-46e4-4798-a067-7587e5ace633",
   "metadata": {},
   "outputs": [],
   "source": []
  }
 ],
 "metadata": {
  "kernelspec": {
   "display_name": "Python 3 (ipykernel)",
   "language": "python",
   "name": "python3"
  },
  "language_info": {
   "codemirror_mode": {
    "name": "ipython",
    "version": 3
   },
   "file_extension": ".py",
   "mimetype": "text/x-python",
   "name": "python",
   "nbconvert_exporter": "python",
   "pygments_lexer": "ipython3",
   "version": "3.12.4"
  }
 },
 "nbformat": 4,
 "nbformat_minor": 5
}
