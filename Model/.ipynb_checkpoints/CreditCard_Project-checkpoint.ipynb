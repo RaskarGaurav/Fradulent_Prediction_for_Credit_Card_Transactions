{
 "cells": [
  {
   "cell_type": "code",
   "execution_count": 45,
   "id": "433488e6-944b-482b-a19f-db64a734a54e",
   "metadata": {},
   "outputs": [],
   "source": [
    "#!pip install pandas\n",
    "#!pip install matplotlib"
   ]
  },
  {
   "cell_type": "code",
   "execution_count": 46,
   "id": "98b2c6ab-c3f8-4101-8015-48918efd979f",
   "metadata": {},
   "outputs": [],
   "source": [
    "import pandas as pd\n",
    "import numpy as np\n",
    "import matplotlib.pyplot as plt"
   ]
  },
  {
   "cell_type": "markdown",
   "id": "e14ed137-daf7-4c72-88b7-57d58c195b0d",
   "metadata": {},
   "source": [
    "## Load Data in train and test"
   ]
  },
  {
   "cell_type": "code",
   "execution_count": 2,
   "id": "9781f952-475e-4fd8-9b4a-443c56dea13c",
   "metadata": {},
   "outputs": [],
   "source": [
    "train = pd.read_csv(\"../Dataset/credit_card_transaction_train.csv\")\n",
    "test = pd.read_csv(\"../Dataset/credit_card_transaction_test.csv\")"
   ]
  },
  {
   "cell_type": "markdown",
   "id": "f37f4f27-f5b6-4933-a693-6aa8e0a95676",
   "metadata": {},
   "source": [
    "## Basic Analysis of Datasets"
   ]
  },
  {
   "cell_type": "code",
   "execution_count": 3,
   "id": "33218e24-044d-4eb6-8b43-a475774ab03c",
   "metadata": {},
   "outputs": [
    {
     "data": {
      "text/plain": [
       "((1296675, 24), (555719, 24))"
      ]
     },
     "execution_count": 3,
     "metadata": {},
     "output_type": "execute_result"
    }
   ],
   "source": [
    "train.shape, test.shape"
   ]
  },
  {
   "cell_type": "code",
   "execution_count": 4,
   "id": "2cd60902-3e25-4ddb-95d5-af657ecde27d",
   "metadata": {},
   "outputs": [
    {
     "data": {
      "text/plain": [
       "True"
      ]
     },
     "execution_count": 4,
     "metadata": {},
     "output_type": "execute_result"
    }
   ],
   "source": [
    "all(train.columns == test.columns)"
   ]
  },
  {
   "cell_type": "code",
   "execution_count": 5,
   "id": "58c1c519-4682-46cf-89d2-93aabee6936c",
   "metadata": {},
   "outputs": [
    {
     "name": "stdout",
     "output_type": "stream",
     "text": [
      "<class 'pandas.core.frame.DataFrame'>\n",
      "RangeIndex: 1296675 entries, 0 to 1296674\n",
      "Data columns (total 24 columns):\n",
      " #   Column                 Non-Null Count    Dtype  \n",
      "---  ------                 --------------    -----  \n",
      " 0   Unnamed: 0             1296675 non-null  int64  \n",
      " 1   trans_date_trans_time  1296675 non-null  object \n",
      " 2   cc_num                 1296675 non-null  int64  \n",
      " 3   merchant               1296675 non-null  object \n",
      " 4   category               1296675 non-null  object \n",
      " 5   amt                    1296675 non-null  float64\n",
      " 6   first                  1296675 non-null  object \n",
      " 7   last                   1296675 non-null  object \n",
      " 8   gender                 1296675 non-null  object \n",
      " 9   street                 1296675 non-null  object \n",
      " 10  city                   1296675 non-null  object \n",
      " 11  state                  1296675 non-null  object \n",
      " 12  zip                    1296675 non-null  int64  \n",
      " 13  lat                    1296675 non-null  float64\n",
      " 14  long                   1296675 non-null  float64\n",
      " 15  city_pop               1296675 non-null  int64  \n",
      " 16  job                    1296675 non-null  object \n",
      " 17  dob                    1296675 non-null  object \n",
      " 18  trans_num              1296675 non-null  object \n",
      " 19  unix_time              1296675 non-null  int64  \n",
      " 20  merch_lat              1296675 non-null  float64\n",
      " 21  merch_long             1296675 non-null  float64\n",
      " 22  is_fraud               1296675 non-null  int64  \n",
      " 23  merch_zipcode          1100702 non-null  float64\n",
      "dtypes: float64(6), int64(6), object(12)\n",
      "memory usage: 237.4+ MB\n"
     ]
    }
   ],
   "source": [
    "train.info()"
   ]
  },
  {
   "cell_type": "code",
   "execution_count": 6,
   "id": "db74550c-79a5-4cfc-a1d2-96fceed1602d",
   "metadata": {},
   "outputs": [
    {
     "name": "stdout",
     "output_type": "stream",
     "text": [
      "<class 'pandas.core.frame.DataFrame'>\n",
      "RangeIndex: 555719 entries, 0 to 555718\n",
      "Data columns (total 24 columns):\n",
      " #   Column                 Non-Null Count   Dtype  \n",
      "---  ------                 --------------   -----  \n",
      " 0   Unnamed: 0             555719 non-null  int64  \n",
      " 1   trans_date_trans_time  555719 non-null  object \n",
      " 2   cc_num                 555719 non-null  int64  \n",
      " 3   merchant               555719 non-null  object \n",
      " 4   category               555719 non-null  object \n",
      " 5   amt                    555719 non-null  float64\n",
      " 6   first                  555719 non-null  object \n",
      " 7   last                   555719 non-null  object \n",
      " 8   gender                 555719 non-null  object \n",
      " 9   street                 555719 non-null  object \n",
      " 10  city                   555719 non-null  object \n",
      " 11  state                  555719 non-null  object \n",
      " 12  zip                    555719 non-null  int64  \n",
      " 13  lat                    555719 non-null  float64\n",
      " 14  long                   555719 non-null  float64\n",
      " 15  city_pop               555719 non-null  int64  \n",
      " 16  job                    555719 non-null  object \n",
      " 17  dob                    555719 non-null  object \n",
      " 18  trans_num              555719 non-null  object \n",
      " 19  unix_time              555719 non-null  int64  \n",
      " 20  merch_lat              555719 non-null  float64\n",
      " 21  merch_long             555719 non-null  float64\n",
      " 22  is_fraud               555719 non-null  int64  \n",
      " 23  merch_zipcode          471736 non-null  float64\n",
      "dtypes: float64(6), int64(6), object(12)\n",
      "memory usage: 101.8+ MB\n"
     ]
    }
   ],
   "source": [
    "test.info()"
   ]
  },
  {
   "cell_type": "code",
   "execution_count": 7,
   "id": "45295f2c-1bf7-4453-8efd-a87f0f28b5c9",
   "metadata": {},
   "outputs": [
    {
     "data": {
      "text/plain": [
       "(merch_zipcode    0.064768\n",
       " dtype: float64,\n",
       " merch_zipcode    0.352648\n",
       " dtype: float64)"
      ]
     },
     "execution_count": 7,
     "metadata": {},
     "output_type": "execute_result"
    }
   ],
   "source": [
    "#Null Values\n",
    "nullsTrain=train.isna().sum()\n",
    "nullsTrain=nullsTrain[nullsTrain>0]\n",
    "\n",
    "nullsTest=test.isna().sum()\n",
    "nullsTest=nullsTest[nullsTest>0]\n",
    "\n",
    "nullsPercentTrain=nullsTest/train.shape[0]\n",
    "nullsPercentTest=nullsTrain/test.shape[0]\n",
    "\n",
    "nullsPercentTrain , nullsPercentTest"
   ]
  },
  {
   "cell_type": "markdown",
   "id": "21a21286-d8b2-46e7-8ba3-5b64f1418404",
   "metadata": {},
   "source": [
    "## Removing Null values\n",
    "Null values contribute to only 6% of training data. Testing data should be clean."
   ]
  },
  {
   "cell_type": "code",
   "execution_count": 8,
   "id": "493301e3-d891-4cab-97f5-56ed30061f28",
   "metadata": {},
   "outputs": [],
   "source": [
    "#Removing Null Values\n",
    "train.dropna(inplace=True,axis=0)\n",
    "test.dropna(inplace=True,axis=0)"
   ]
  },
  {
   "cell_type": "code",
   "execution_count": 9,
   "id": "d9011246-0f0a-4dcb-96a5-d788ab1852b9",
   "metadata": {},
   "outputs": [
    {
     "data": {
      "text/plain": [
       "((1100702, 24), (471736, 24))"
      ]
     },
     "execution_count": 9,
     "metadata": {},
     "output_type": "execute_result"
    }
   ],
   "source": [
    "train.shape, test.shape"
   ]
  },
  {
   "cell_type": "markdown",
   "id": "80e0057c-581e-4d98-93cb-f665319076eb",
   "metadata": {},
   "source": [
    "."
   ]
  },
  {
   "cell_type": "markdown",
   "id": "b71f2772-462d-4e15-8923-b95785899ec1",
   "metadata": {},
   "source": [
    "## Remove index and unwanted columns"
   ]
  },
  {
   "cell_type": "code",
   "execution_count": 10,
   "id": "c2edaba1-7277-44ee-a644-f3c2c12823a2",
   "metadata": {},
   "outputs": [],
   "source": [
    "#Remove index columns\n",
    "colsToDrop= ['trans_date_trans_time','Unnamed: 0','cc_num','first','last','trans_num','street']\n",
    "train.drop(colsToDrop,axis=1,inplace=True)\n",
    "test.drop(colsToDrop,axis=1,inplace=True)"
   ]
  },
  {
   "cell_type": "code",
   "execution_count": 11,
   "id": "3fb1e398-4ac7-4e68-aac5-8b75e37123c8",
   "metadata": {},
   "outputs": [
    {
     "data": {
      "text/plain": [
       "((1100702, 17), (471736, 17))"
      ]
     },
     "execution_count": 11,
     "metadata": {},
     "output_type": "execute_result"
    }
   ],
   "source": [
    "train.shape, test.shape"
   ]
  },
  {
   "cell_type": "markdown",
   "id": "fa72edfe-e7e1-43df-a7cc-0f2b55a4ba3f",
   "metadata": {},
   "source": [
    "."
   ]
  },
  {
   "cell_type": "markdown",
   "id": "7d3b76ca-66d8-42f5-bc9c-ee6e9a742cdb",
   "metadata": {},
   "source": [
    "## Feature Engineering (Converting DoB to Age)"
   ]
  },
  {
   "cell_type": "code",
   "execution_count": 12,
   "id": "f9621007-2dd4-422f-8559-14936b549c13",
   "metadata": {},
   "outputs": [],
   "source": [
    "train['dob'] = pd.to_datetime(train['dob'])\n",
    "test['dob'] = pd.to_datetime(test['dob'])"
   ]
  },
  {
   "cell_type": "code",
   "execution_count": 13,
   "id": "d1a9f76f-7dab-45cf-8d7b-574169cfdd5c",
   "metadata": {},
   "outputs": [],
   "source": [
    "train['age'] = 2024 - train['dob'].dt.year\n",
    "test['age'] = 2024 - test['dob'].dt.year"
   ]
  },
  {
   "cell_type": "code",
   "execution_count": 14,
   "id": "dd65fe44-eaa6-45cc-a128-073ffca8826b",
   "metadata": {},
   "outputs": [],
   "source": [
    "train.drop(\"dob\",axis=1,inplace=True)\n",
    "test.drop(\"dob\",axis=1,inplace=True)"
   ]
  },
  {
   "cell_type": "markdown",
   "id": "cb9fbaa5-6187-4cf2-b7b9-6d825c9a0c4f",
   "metadata": {},
   "source": [
    "## Treat Class-Imbalance"
   ]
  },
  {
   "cell_type": "code",
   "execution_count": 57,
   "id": "dda47af6-d51e-4f62-8d97-2eaa4e8f26b8",
   "metadata": {},
   "outputs": [
    {
     "name": "stderr",
     "output_type": "stream",
     "text": [
      "C:\\Users\\GhungruTree3\\AppData\\Local\\Temp\\ipykernel_344\\1750554514.py:3: FutureWarning: pandas.value_counts is deprecated and will be removed in a future version. Use pd.Series(obj).value_counts() instead.\n",
      "  count_classes = pd.value_counts(train['is_fraud'])\n"
     ]
    },
    {
     "data": {
      "text/plain": [
       "Text(0, 0.5, 'Frequency')"
      ]
     },
     "execution_count": 57,
     "metadata": {},
     "output_type": "execute_result"
    },
    {
     "data": {
      "image/png": "[encoded data removed]",
      "text/plain": [
       "<Figure size 500x500 with 1 Axes>"
      ]
     },
     "metadata": {},
     "output_type": "display_data"
    }
   ],
   "source": [
    "# plotting the classes\n",
    "plt.figure(figsize=(5,5))\n",
    "count_classes = pd.value_counts(train['is_fraud'])\n",
    "count_classes.plot(kind = 'bar',rot=0)\n",
    "LABELS = ['Normal','Fraud']\n",
    "plt.xticks(range(2), LABELS)\n",
    "plt.xlabel(\"Class of transaction\")\n",
    "plt.ylabel(\"Frequency\")"
   ]
  },
  {
   "cell_type": "code",
   "execution_count": 59,
   "id": "3cfe3970-6146-4206-817b-0bfe309ea7ad",
   "metadata": {},
   "outputs": [
    {
     "name": "stdout",
     "output_type": "stream",
     "text": [
      "171.98475561841897\n"
     ]
    }
   ],
   "source": [
    "print(count_classes.iloc[0]/count_classes.iloc[1])"
   ]
  },
  {
   "cell_type": "markdown",
   "id": "bf9397aa-d755-43a3-9f91-a2ac417d2ca3",
   "metadata": {},
   "source": [
    "#### Should opt for \"class_weight= \" parameter in ML model b/s ratio approx. 172:1 is fair enough good than 1000:1"
   ]
  },
  {
   "cell_type": "markdown",
   "id": "f7a9d0fd-2b4b-450c-a2f3-ee2aa10fc521",
   "metadata": {},
   "source": [
    "."
   ]
  },
  {
   "cell_type": "markdown",
   "id": "14154c0d-4b29-4717-8ff8-ea795b2dd67b",
   "metadata": {},
   "source": [
    "## Encoding "
   ]
  },
  {
   "cell_type": "code",
   "execution_count": 17,
   "id": "678dc3ab-0bcb-4d7f-af5b-97f9936cbf90",
   "metadata": {},
   "outputs": [
    {
     "data": {
      "text/plain": [
       "merchant          object\n",
       "category          object\n",
       "amt              float64\n",
       "gender            object\n",
       "street            object\n",
       "city              object\n",
       "state             object\n",
       "zip                int64\n",
       "lat              float64\n",
       "long             float64\n",
       "city_pop           int64\n",
       "job               object\n",
       "dob               object\n",
       "unix_time          int64\n",
       "merch_lat        float64\n",
       "merch_long       float64\n",
       "is_fraud           int64\n",
       "merch_zipcode    float64\n",
       "dtype: object"
      ]
     },
     "execution_count": 17,
     "metadata": {},
     "output_type": "execute_result"
    }
   ],
   "source": [
    "train.dtypes"
   ]
  },
  {
   "cell_type": "code",
   "execution_count": 14,
   "id": "b3f81f3b-f3de-4b56-953e-4450cae06901",
   "metadata": {},
   "outputs": [
    {
     "data": {
      "text/plain": [
       "merchant             693\n",
       "category              14\n",
       "amt                49455\n",
       "gender                 2\n",
       "street               980\n",
       "city                 891\n",
       "state                 50\n",
       "zip                  967\n",
       "lat                  965\n",
       "long                 966\n",
       "city_pop             878\n",
       "job                  493\n",
       "dob                  965\n",
       "unix_time        1084867\n",
       "merch_lat        1062158\n",
       "merch_long       1083956\n",
       "is_fraud               2\n",
       "merch_zipcode      28336\n",
       "dtype: int64"
      ]
     },
     "execution_count": 14,
     "metadata": {},
     "output_type": "execute_result"
    }
   ],
   "source": [
    "train.nunique()"
   ]
  },
  {
   "cell_type": "code",
   "execution_count": 19,
   "id": "141ad80c-2251-46d6-9e48-e02a29bfcaf8",
   "metadata": {},
   "outputs": [
    {
     "data": {
      "text/plain": [
       "array(['misc_net', 'entertainment', 'misc_pos', 'gas_transport',\n",
       "       'grocery_pos', 'shopping_net', 'shopping_pos', 'food_dining',\n",
       "       'grocery_net', 'health_fitness', 'travel', 'kids_pets',\n",
       "       'personal_care', 'home'], dtype=object)"
      ]
     },
     "execution_count": 19,
     "metadata": {},
     "output_type": "execute_result"
    }
   ],
   "source": [
    "train['category'].unique()"
   ]
  },
  {
   "cell_type": "code",
   "execution_count": 60,
   "id": "e2566547-46e4-4798-a067-7587e5ace633",
   "metadata": {},
   "outputs": [
    {
     "data": {
      "text/html": [
       "<div>\n",
       "<style scoped>\n",
       "    .dataframe tbody tr th:only-of-type {\n",
       "        vertical-align: middle;\n",
       "    }\n",
       "\n",
       "    .dataframe tbody tr th {\n",
       "        vertical-align: top;\n",
       "    }\n",
       "\n",
       "    .dataframe thead th {\n",
       "        text-align: right;\n",
       "    }\n",
       "</style>\n",
       "<table border=\"1\" class=\"dataframe\">\n",
       "  <thead>\n",
       "    <tr style=\"text-align: right;\">\n",
       "      <th></th>\n",
       "      <th>merchant</th>\n",
       "      <th>category</th>\n",
       "      <th>amt</th>\n",
       "      <th>gender</th>\n",
       "      <th>city</th>\n",
       "      <th>state</th>\n",
       "      <th>zip</th>\n",
       "      <th>lat</th>\n",
       "      <th>long</th>\n",
       "      <th>city_pop</th>\n",
       "      <th>job</th>\n",
       "      <th>unix_time</th>\n",
       "      <th>merch_lat</th>\n",
       "      <th>merch_long</th>\n",
       "      <th>is_fraud</th>\n",
       "      <th>merch_zipcode</th>\n",
       "      <th>age</th>\n",
       "    </tr>\n",
       "  </thead>\n",
       "  <tbody>\n",
       "    <tr>\n",
       "      <th>0</th>\n",
       "      <td>fraud_Rippin, Kub and Mann</td>\n",
       "      <td>misc_net</td>\n",
       "      <td>4.97</td>\n",
       "      <td>F</td>\n",
       "      <td>Moravian Falls</td>\n",
       "      <td>NC</td>\n",
       "      <td>28654</td>\n",
       "      <td>36.0788</td>\n",
       "      <td>-81.1781</td>\n",
       "      <td>3495</td>\n",
       "      <td>Psychologist, counselling</td>\n",
       "      <td>1325376018</td>\n",
       "      <td>36.011293</td>\n",
       "      <td>-82.048315</td>\n",
       "      <td>0</td>\n",
       "      <td>28705.0</td>\n",
       "      <td>36</td>\n",
       "    </tr>\n",
       "    <tr>\n",
       "      <th>2</th>\n",
       "      <td>fraud_Lind-Buckridge</td>\n",
       "      <td>entertainment</td>\n",
       "      <td>220.11</td>\n",
       "      <td>M</td>\n",
       "      <td>Malad City</td>\n",
       "      <td>ID</td>\n",
       "      <td>83252</td>\n",
       "      <td>42.1808</td>\n",
       "      <td>-112.2620</td>\n",
       "      <td>4154</td>\n",
       "      <td>Nature conservation officer</td>\n",
       "      <td>1325376051</td>\n",
       "      <td>43.150704</td>\n",
       "      <td>-112.154481</td>\n",
       "      <td>0</td>\n",
       "      <td>83236.0</td>\n",
       "      <td>62</td>\n",
       "    </tr>\n",
       "    <tr>\n",
       "      <th>4</th>\n",
       "      <td>fraud_Keeling-Crist</td>\n",
       "      <td>misc_pos</td>\n",
       "      <td>41.96</td>\n",
       "      <td>M</td>\n",
       "      <td>Doe Hill</td>\n",
       "      <td>VA</td>\n",
       "      <td>24433</td>\n",
       "      <td>38.4207</td>\n",
       "      <td>-79.4629</td>\n",
       "      <td>99</td>\n",
       "      <td>Dance movement psychotherapist</td>\n",
       "      <td>1325376186</td>\n",
       "      <td>38.674999</td>\n",
       "      <td>-78.632459</td>\n",
       "      <td>0</td>\n",
       "      <td>22844.0</td>\n",
       "      <td>38</td>\n",
       "    </tr>\n",
       "    <tr>\n",
       "      <th>5</th>\n",
       "      <td>fraud_Stroman, Hudson and Erdman</td>\n",
       "      <td>gas_transport</td>\n",
       "      <td>94.63</td>\n",
       "      <td>F</td>\n",
       "      <td>Dublin</td>\n",
       "      <td>PA</td>\n",
       "      <td>18917</td>\n",
       "      <td>40.3750</td>\n",
       "      <td>-75.2045</td>\n",
       "      <td>2158</td>\n",
       "      <td>Transport planner</td>\n",
       "      <td>1325376248</td>\n",
       "      <td>40.653382</td>\n",
       "      <td>-76.152667</td>\n",
       "      <td>0</td>\n",
       "      <td>17972.0</td>\n",
       "      <td>63</td>\n",
       "    </tr>\n",
       "    <tr>\n",
       "      <th>7</th>\n",
       "      <td>fraud_Corwin-Collins</td>\n",
       "      <td>gas_transport</td>\n",
       "      <td>71.65</td>\n",
       "      <td>M</td>\n",
       "      <td>Edinburg</td>\n",
       "      <td>VA</td>\n",
       "      <td>22824</td>\n",
       "      <td>38.8432</td>\n",
       "      <td>-78.6003</td>\n",
       "      <td>6018</td>\n",
       "      <td>Designer, multimedia</td>\n",
       "      <td>1325376308</td>\n",
       "      <td>38.948089</td>\n",
       "      <td>-78.540296</td>\n",
       "      <td>0</td>\n",
       "      <td>22644.0</td>\n",
       "      <td>77</td>\n",
       "    </tr>\n",
       "  </tbody>\n",
       "</table>\n",
       "</div>"
      ],
      "text/plain": [
       "                           merchant       category     amt gender  \\\n",
       "0        fraud_Rippin, Kub and Mann       misc_net    4.97      F   \n",
       "2              fraud_Lind-Buckridge  entertainment  220.11      M   \n",
       "4               fraud_Keeling-Crist       misc_pos   41.96      M   \n",
       "5  fraud_Stroman, Hudson and Erdman  gas_transport   94.63      F   \n",
       "7              fraud_Corwin-Collins  gas_transport   71.65      M   \n",
       "\n",
       "             city state    zip      lat      long  city_pop  \\\n",
       "0  Moravian Falls    NC  28654  36.0788  -81.1781      3495   \n",
       "2      Malad City    ID  83252  42.1808 -112.2620      4154   \n",
       "4        Doe Hill    VA  24433  38.4207  -79.4629        99   \n",
       "5          Dublin    PA  18917  40.3750  -75.2045      2158   \n",
       "7        Edinburg    VA  22824  38.8432  -78.6003      6018   \n",
       "\n",
       "                              job   unix_time  merch_lat  merch_long  \\\n",
       "0       Psychologist, counselling  1325376018  36.011293  -82.048315   \n",
       "2     Nature conservation officer  1325376051  43.150704 -112.154481   \n",
       "4  Dance movement psychotherapist  1325376186  38.674999  -78.632459   \n",
       "5               Transport planner  1325376248  40.653382  -76.152667   \n",
       "7            Designer, multimedia  1325376308  38.948089  -78.540296   \n",
       "\n",
       "   is_fraud  merch_zipcode  age  \n",
       "0         0        28705.0   36  \n",
       "2         0        83236.0   62  \n",
       "4         0        22844.0   38  \n",
       "5         0        17972.0   63  \n",
       "7         0        22644.0   77  "
      ]
     },
     "execution_count": 60,
     "metadata": {},
     "output_type": "execute_result"
    }
   ],
   "source": [
    "train.head()"
   ]
  },
  {
   "cell_type": "code",
   "execution_count": null,
   "id": "bc02faf8-77bb-4cb9-bd85-005e52c39063",
   "metadata": {},
   "outputs": [],
   "source": []
  }
 ],
 "metadata": {
  "kernelspec": {
   "display_name": "Python 3 (ipykernel)",
   "language": "python",
   "name": "python3"
  },
  "language_info": {
   "codemirror_mode": {
    "name": "ipython",
    "version": 3
   },
   "file_extension": ".py",
   "mimetype": "text/x-python",
   "name": "python",
   "nbconvert_exporter": "python",
   "pygments_lexer": "ipython3",
   "version": "3.12.4"
  }
 },
 "nbformat": 4,
 "nbformat_minor": 5
}
